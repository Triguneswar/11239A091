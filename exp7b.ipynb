{
  "nbformat": 4,
  "nbformat_minor": 0,
  "metadata": {
    "colab": {
      "provenance": [],
      "authorship_tag": "ABX9TyPKVci+WcBkfo4b/AhhwKhk",
      "include_colab_link": true
    },
    "kernelspec": {
      "name": "python3",
      "display_name": "Python 3"
    },
    "language_info": {
      "name": "python"
    }
  },
  "cells": [
    {
      "cell_type": "markdown",
      "metadata": {
        "id": "view-in-github",
        "colab_type": "text"
      },
      "source": [
        "<a href=\"https://colab.research.google.com/github/Triguneswar/11239A091/blob/main/exp7b.ipynb\" target=\"_parent\"><img src=\"https://colab.research.google.com/assets/colab-badge.svg\" alt=\"Open In Colab\"/></a>"
      ]
    },
    {
      "cell_type": "code",
      "execution_count": 2,
      "metadata": {
        "colab": {
          "base_uri": "https://localhost:8080/"
        },
        "id": "6YnntU6CoztF",
        "outputId": "5ba7a3ea-8d51-4339-be02-7bbdb73c4526"
      },
      "outputs": [
        {
          "output_type": "stream",
          "name": "stdout",
          "text": [
            "shortest distance between every pair of vertices:\n",
            "[0, 3, inf]\n",
            "[3, 0, inf]\n",
            "[4, 1, 0]\n"
          ]
        }
      ],
      "source": [
        "def floyd_warshall(graph):\n",
        "  v=len(graph)\n",
        "  dist=[row[:] for row in graph]\n",
        "  for k in range(v):\n",
        "    for i in range(v):\n",
        "      for j in range(v):\n",
        "        if dist[i][j]>dist[i][k]+dist[k][j]:\n",
        "          dist[i][j]=dist[i][k]+dist[k][j]\n",
        "  return dist\n",
        "def print_solution(dist):\n",
        "  print(\"shortest distance between every pair of vertices:\")\n",
        "  for row in dist:\n",
        "    print(row)\n",
        "INF=float('inf')\n",
        "graph=[\n",
        "    [0,3,INF],\n",
        "    [3,0,INF],\n",
        "    [INF,1,0]\n",
        "]\n",
        "shortest_paths=floyd_warshall(graph)\n",
        "print_solution(shortest_paths)"
      ]
    }
  ]
}