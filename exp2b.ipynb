{
  "nbformat": 4,
  "nbformat_minor": 0,
  "metadata": {
    "colab": {
      "provenance": [],
      "authorship_tag": "ABX9TyNs49Z67HuUhpebWqm6ibdm",
      "include_colab_link": true
    },
    "kernelspec": {
      "name": "python3",
      "display_name": "Python 3"
    },
    "language_info": {
      "name": "python"
    }
  },
  "cells": [
    {
      "cell_type": "markdown",
      "metadata": {
        "id": "view-in-github",
        "colab_type": "text"
      },
      "source": [
        "<a href=\"https://colab.research.google.com/github/Triguneswar/11239A091/blob/main/exp2b.ipynb\" target=\"_parent\"><img src=\"https://colab.research.google.com/assets/colab-badge.svg\" alt=\"Open In Colab\"/></a>"
      ]
    },
    {
      "cell_type": "code",
      "execution_count": 1,
      "metadata": {
        "colab": {
          "base_uri": "https://localhost:8080/"
        },
        "id": "WBTcb9UIiIkh",
        "outputId": "262f184b-8392-4cbe-ce44-93286661ecfe"
      },
      "outputs": [
        {
          "output_type": "stream",
          "name": "stdout",
          "text": [
            "enter a number:5\n",
            "0 1 1 2 3 "
          ]
        }
      ],
      "source": [
        "def fib(n):\n",
        "    a,b=0,1\n",
        "    count=0\n",
        "    while count<n:\n",
        "        print(a, end=\" \")\n",
        "        temp=a+b\n",
        "        a=b\n",
        "        b=temp\n",
        "        count+=1\n",
        "n=int(input(\"enter a number:\"))\n",
        "fib(n)"
      ]
    }
  ]
}